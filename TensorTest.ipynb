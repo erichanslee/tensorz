{
 "cells": [
  {
   "cell_type": "code",
   "execution_count": 15,
   "metadata": {
    "collapsed": false,
    "deletable": true,
    "editable": true
   },
   "outputs": [
    {
     "name": "stderr",
     "output_type": "stream",
     "text": [
      "WARNING: Method definition symtensor(Array{Float64, N<:Any}) in module Main at /home/erichanslee/Dropbox/Projects/Tensors/TensorValues/helpers.jl:35 overwritten at /home/erichanslee/Dropbox/Projects/Tensors/TensorValues/helpers.jl:5.\n",
      "WARNING: Method definition example_tensor() in module Main at /home/erichanslee/Dropbox/Projects/Tensors/TensorValues/helpers.jl:5 overwritten at /home/erichanslee/Dropbox/Projects/Tensors/TensorValues/helpers.jl:15.\n",
      "WARNING: Method definition rand_tensor(Any) in module Main at /home/erichanslee/Dropbox/Projects/Tensors/TensorValues/helpers.jl:25 overwritten at /home/erichanslee/Dropbox/Projects/Tensors/TensorValues/helpers.jl:35.\n",
      "WARNING: Method definition symtensor(Array{Float64, N<:Any}) in module Main at /home/erichanslee/Dropbox/Projects/Tensors/TensorValues/helpers.jl:5 overwritten at /home/erichanslee/Dropbox/Projects/Tensors/TensorValues/helpers.jl:45.\n",
      "WARNING: Method definition mult3(Array{Float64, 3}, Array{Float64, 1}) in module Main at /home/erichanslee/Dropbox/Projects/Tensors/TensorValues/helpers.jl:44 overwritten at /home/erichanslee/Dropbox/Projects/Tensors/TensorValues/helpers.jl:54.\n",
      "WARNING: Method definition funcM(Any) in module Main at /home/erichanslee/Dropbox/Projects/Tensors/TensorValues/helpers.jl:54 overwritten at /home/erichanslee/Dropbox/Projects/Tensors/TensorValues/helpers.jl:64.\n",
      "WARNING: Method definition M(Any, Any) in module Main at /home/erichanslee/Dropbox/Projects/Tensors/TensorValues/helpers.jl:73 overwritten at /home/erichanslee/Dropbox/Projects/Tensors/TensorValues/helpers.jl:83.\n",
      "WARNING: Method definition rayleigh(Any, Any) in module Main at /home/erichanslee/Dropbox/Projects/Tensors/TensorValues/helpers.jl:77 overwritten at /home/erichanslee/Dropbox/Projects/Tensors/TensorValues/helpers.jl:87.\n",
      "WARNING: Method definition jacobian(Any, Any) in module Main at /home/erichanslee/Dropbox/Projects/Tensors/TensorValues/helpers.jl:82 overwritten at /home/erichanslee/Dropbox/Projects/Tensors/TensorValues/helpers.jl:92.\n",
      "WARNING: Method definition euler(Any, Any, Any, Any) in module Main at /home/erichanslee/Dropbox/Projects/Tensors/TensorValues/helpers.jl:96 overwritten at /home/erichanslee/Dropbox/Projects/Tensors/TensorValues/helpers.jl:106.\n",
      "WARNING: Method definition eulerJac(Any, Any, Any, Any) in module Main at /home/erichanslee/Dropbox/Projects/Tensors/TensorValues/helpers.jl:107 overwritten at /home/erichanslee/Dropbox/Projects/Tensors/TensorValues/helpers.jl:117.\n"
     ]
    },
    {
     "data": {
      "text/plain": [
       "eulerJac (generic function with 1 method)"
      ]
     },
     "execution_count": 15,
     "metadata": {},
     "output_type": "execute_result"
    }
   ],
   "source": [
    "# Headers\n",
    "using DifferentialEquations\n",
    "using PyPlot\n",
    "include(\"helpers.jl\")"
   ]
  },
  {
   "cell_type": "code",
   "execution_count": 16,
   "metadata": {
    "collapsed": false,
    "deletable": true,
    "editable": true
   },
   "outputs": [],
   "source": [
    "# Solve ODE\n",
    "\n",
    "n=3;\n",
    "x0 = rand(n,1);\n",
    "timesteps = 100\n",
    "tspan = (0.0,8.0);\n",
    "h = 0.5\n",
    "prob = ODEProblem(M,x0,tspan);\n",
    "sol = euler(M, x0, timesteps,h);\n",
    "#sol = solve(prob,Tsit5(),reltol=1e-3,abstol=1e-3);\n",
    "\n"
   ]
  },
  {
   "cell_type": "code",
   "execution_count": 12,
   "metadata": {
    "collapsed": false,
    "deletable": true,
    "editable": true
   },
   "outputs": [
    {
     "data": {
      "image/png": "[encoded data removed]",
      "text/plain": [
       "PyPlot.Figure(PyObject <matplotlib.figure.Figure object at 0x7f2a53122c10>)"
      ]
     },
     "metadata": {},
     "output_type": "display_data"
    },
    {
     "data": {
      "text/plain": [
       "1-element Array{Any,1}:\n",
       " PyObject <matplotlib.lines.Line2D object at 0x7f2a530ad0d0>"
      ]
     },
     "execution_count": 12,
     "metadata": {},
     "output_type": "execute_result"
    }
   ],
   "source": [
    "#Plot Solution\n",
    "\n",
    "plot(sol[2,:])"
   ]
  },
  {
   "cell_type": "code",
   "execution_count": 17,
   "metadata": {
    "collapsed": false,
    "deletable": true,
    "editable": true
   },
   "outputs": [
    {
     "name": "stdout",
     "output_type": "stream",
     "text": [
      "[-1.03253,-1.18803,-3.25078]\n"
     ]
    }
   ],
   "source": [
    "J = jacobian(funcM, sol[:,end]);\n",
    "D,V = eig(J);\n",
    "println(D);"
   ]
  },
  {
   "cell_type": "code",
   "execution_count": 18,
   "metadata": {
    "collapsed": false
   },
   "outputs": [
    {
     "name": "stdout",
     "output_type": "stream",
     "text": [
      "[-0.00183434]\n"
     ]
    }
   ],
   "source": [
    "v = sol[:,end]\n",
    "A = example_tensor()\n",
    "println(rayleigh(A, v))"
   ]
  },
  {
   "cell_type": "code",
   "execution_count": null,
   "metadata": {
    "collapsed": true
   },
   "outputs": [],
   "source": []
  }
 ],
 "metadata": {
  "kernelspec": {
   "display_name": "Julia 0.5.2",
   "language": "julia",
   "name": "julia-0.5"
  },
  "language_info": {
   "file_extension": ".jl",
   "mimetype": "application/julia",
   "name": "julia",
   "version": "0.5.2"
  }
 },
 "nbformat": 4,
 "nbformat_minor": 2
}
